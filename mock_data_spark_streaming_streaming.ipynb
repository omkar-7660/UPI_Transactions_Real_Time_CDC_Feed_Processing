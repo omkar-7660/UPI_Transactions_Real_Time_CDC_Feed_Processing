{
 "cells": [
  {
   "cell_type": "code",
   "execution_count": 0,
   "metadata": {
    "application/vnd.databricks.v1+cell": {
     "cellMetadata": {
      "byteLimit": 2048000,
      "rowLimit": 10000
     },
     "inputWidgets": {},
     "nuid": "cc55f3f8-63e2-4c08-a158-8820307e9a8c",
     "showTitle": false,
     "tableResultSettingsMap": {},
     "title": ""
    }
   },
   "outputs": [],
   "source": [
    "from pyspark.sql.functions import col, sum, when\n",
    "from delta.tables import DeltaTable\n",
    "\n",
    "# Target Delta table for aggregated data\n",
    "aggregated_table_name = \"increamental_load.default.aggregated_upi_transactions\"\n",
    "raw_table_name = \"increamental_load.default.raw_upi_transaction_v1\"\n",
    "\n",
    "spark.sql(f\"\"\" CREATE TABLE IF NOT EXISTS {aggregated_table_name} (\n",
    "    merchent_id  STRING,\n",
    "    total_sales DOUBLE,\n",
    "    total_refunds DOUBLE,\n",
    "    net_sales DOUBLE\n",
    ")\n",
    "USING delta\n",
    "\"\"\")\n"
   ]
  },
  {
   "cell_type": "code",
   "execution_count": 0,
   "metadata": {
    "application/vnd.databricks.v1+cell": {
     "cellMetadata": {
      "byteLimit": 2048000,
      "rowLimit": 10000
     },
     "inputWidgets": {},
     "nuid": "905e7e5f-9d47-4782-a6f9-d2c48b8e03d7",
     "showTitle": false,
     "tableResultSettingsMap": {},
     "title": ""
    }
   },
   "outputs": [],
   "source": [
    "\n",
    "# Define aggregation logic and merge into the target table\n",
    "def process_aggregation(batch_df, batch_id):\n",
    "    print(f\"Processing batch: {batch_id}\")\n",
    "\n",
    "    # Perform aggregation\n",
    "    aggregated_df = batch_df\\\n",
    "        .filter(col(\"_change_type\").isin(\"insert\", \"update_postimage\"))\\\n",
    "            .groupBy(\"merchent_id\")\\\n",
    "                .agg(\n",
    "            sum(when(col(\"transaction_status\") == \"completed\", col(\"transaction_amount\")).otherwise(0)).alias(\"total_sales\"),\n",
    "            sum(when(col(\"transaction_status\") == \"refunded\", -col(\"transaction_amount\")).otherwise(0)).alias(\"total_refunds\")\n",
    "        )\\\n",
    "            .withColumn(\"net_sales\", col(\"total_sales\") + col(\"total_refunds\"))\n",
    "    \n",
    "\n",
    "    # Merge increamental_load.default.aggregated_upi_transactions\n",
    "    # with increamental_load.default.raw_upi_transaction_v1\n",
    "\n",
    "    target_table = DeltaTable.forName(spark, aggregated_table_name)\n",
    "    target_table.alias(\"target\").merge(\n",
    "        aggregated_df.alias(\"source\"),\n",
    "        \"target.merchent_id = source.merchent_id\"\n",
    "    ).whenMatchedUpdate(set={\n",
    "        \"total_sales\": \"target.total_sales + source.total_sales\",\n",
    "        \"total_refunds\": \"target.total_refunds + source.total_refunds\",\n",
    "        \"net_sales\": \"target.net_sales + source.net_sales\"\n",
    "    }).whenNotMatchedInsertAll().execute()\n",
    "\n",
    "# Read CDC changes and apply aggregation logic\n",
    "cdc_stream = spark.readStream.format(\"delta\").option(\"readChangeFeed\", \"true\").table(raw_table_name)\n",
    "print(\"Read Stream Started.........\")\n",
    "\n",
    "cdc_stream.writeStream.foreachBatch(process_aggregation).outputMode(\"update\").start().awaitTermination()\n",
    "print(\"Write Stream Started.........\")\n"
   ]
  },
  {
   "cell_type": "code",
   "execution_count": 0,
   "metadata": {
    "application/vnd.databricks.v1+cell": {
     "cellMetadata": {
      "byteLimit": 2048000,
      "implicitDf": true,
      "rowLimit": 10000
     },
     "inputWidgets": {},
     "nuid": "8cfbdd9a-32de-4e6b-a0e9-16993dd25d85",
     "showTitle": false,
     "tableResultSettingsMap": {},
     "title": ""
    }
   },
   "outputs": [],
   "source": []
  },
  {
   "cell_type": "code",
   "execution_count": 0,
   "metadata": {
    "application/vnd.databricks.v1+cell": {
     "cellMetadata": {
      "byteLimit": 2048000,
      "rowLimit": 10000
     },
     "inputWidgets": {},
     "nuid": "392bd029-9a2f-4303-bf8b-ec73bd3d9dbe",
     "showTitle": false,
     "tableResultSettingsMap": {},
     "title": ""
    }
   },
   "outputs": [],
   "source": [
    "spark.read.format(\"delta\")\\\n",
    "    .option(\"readChangeFeed\", \"true\")\\\n",
    "        .option(\"startingVersion\", 0)\\\n",
    "            .table(\"increamental_load.default.raw_upi_transaction_v1\")\\\n",
    "                .show()"
   ]
  }
 ],
 "metadata": {
  "application/vnd.databricks.v1+notebook": {
   "computePreferences": null,
   "dashboards": [],
   "environmentMetadata": {
    "base_environment": "",
    "environment_version": "2"
   },
   "inputWidgetPreferences": null,
   "language": "python",
   "notebookMetadata": {
    "mostRecentlyExecutedCommandWithImplicitDF": {
     "commandId": 8156994095924893,
     "dataframes": [
      "_sqldf"
     ]
    },
    "pythonIndentUnit": 4
   },
   "notebookName": "mock_data_spark_streaming_streaming",
   "widgets": {}
  },
  "language_info": {
   "name": "python"
  }
 },
 "nbformat": 4,
 "nbformat_minor": 0
}
