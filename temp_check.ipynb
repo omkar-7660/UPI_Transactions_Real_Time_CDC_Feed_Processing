{
 "cells": [
  {
   "cell_type": "code",
   "execution_count": 0,
   "metadata": {
    "application/vnd.databricks.v1+cell": {
     "cellMetadata": {
      "byteLimit": 2048000,
      "rowLimit": 10000
     },
     "inputWidgets": {},
     "nuid": "8f1f9528-af6d-41c3-bd7f-3dad271a8174",
     "showTitle": false,
     "tableResultSettingsMap": {},
     "title": ""
    }
   },
   "outputs": [],
   "source": [
    "# Read CDC stream\n",
    "cdc_stream = spark.readStream.format(\"delta\") \\\n",
    "    .option(\"readChangeFeed\", \"true\") \\\n",
    "    .table(\"increamental_load.default.raw_upi_transaction_v1\")\n",
    "\n",
    "# Display CDC changes\n",
    "query = cdc_stream.select(\n",
    "    \"transaction_id\",\n",
    "    \"upi_id\",\n",
    "    \"merchent_id\",\n",
    "    \"transaction_amount\",\n",
    "    \"transaction_timestamp\",\n",
    "    \"transaction_status\",\n",
    "    \"_change_type\",  # CDC change type\n",
    "    \"_commit_version\",\n",
    "    \"_commit_timestamp\"\n",
    ").writeStream.format(\"console\") \\\n",
    "    .outputMode(\"append\") \\\n",
    "    .start()\n",
    "\n",
    "query.awaitTermination()"
   ]
  }
 ],
 "metadata": {
  "application/vnd.databricks.v1+notebook": {
   "computePreferences": null,
   "dashboards": [],
   "environmentMetadata": {
    "base_environment": "",
    "environment_version": "2"
   },
   "inputWidgetPreferences": null,
   "language": "python",
   "notebookMetadata": {
    "pythonIndentUnit": 4
   },
   "notebookName": "temp_check",
   "widgets": {}
  },
  "language_info": {
   "name": "python"
  }
 },
 "nbformat": 4,
 "nbformat_minor": 0
}
