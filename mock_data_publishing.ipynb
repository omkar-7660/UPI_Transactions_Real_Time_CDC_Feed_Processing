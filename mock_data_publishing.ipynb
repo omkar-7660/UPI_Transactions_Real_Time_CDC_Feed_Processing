{
 "cells": [
  {
   "cell_type": "code",
   "execution_count": 0,
   "metadata": {
    "application/vnd.databricks.v1+cell": {
     "cellMetadata": {
      "byteLimit": 2048000,
      "rowLimit": 10000
     },
     "inputWidgets": {},
     "nuid": "f220443a-c436-41f2-bea6-df7ab6b3a428",
     "showTitle": false,
     "tableResultSettingsMap": {},
     "title": ""
    }
   },
   "outputs": [],
   "source": [
    "spark.sql(\"\"\"\n",
    "CREATE TABLE IF NOT EXISTS increamental_load.default.raw_upi_transaction_v1\n",
    "(\n",
    "  transaction_id STRING,\n",
    "  upi_id STRING,\n",
    "  merchent_id STRING,\n",
    "  transaction_amount double,\n",
    "  transaction_timestamp TIMESTAMP,\n",
    "  transaction_status STRING\n",
    ")\n",
    "USING DELTA\n",
    "TBLPROPERTIES (delta.enableChangeDataCapture = true)\n",
    "\"\"\")\n",
    "\n",
    "# dbutils.fs.ls(\"/increamental_load/default/\")\n",
    "\n",
    "print(\"Delta table increamental_load.default.raw_upi_transaction_v1\")\n"
   ]
  },
  {
   "cell_type": "code",
   "execution_count": 0,
   "metadata": {
    "application/vnd.databricks.v1+cell": {
     "cellMetadata": {
      "byteLimit": 2048000,
      "rowLimit": 10000
     },
     "inputWidgets": {},
     "nuid": "233bc4b2-4558-4915-ac59-d276acdb544b",
     "showTitle": false,
     "tableResultSettingsMap": {},
     "title": ""
    }
   },
   "outputs": [],
   "source": [
    "from delta.tables import DeltaTable\n",
    "import time \n",
    "\n",
    "mock_batches = [\n",
    "    # Batch 1: Insert new transactions\n",
    "    spark.createDataFrame([\n",
    "        (\"T001\", \"upi1@bank\", \"M001\", 500.0,  \"2024-12-21 10:00:00\", \"initiated\"),\n",
    "        (\"T002\", \"upi2@bank\", \"M002\", 1000.0, \"2024-12-21 10:05:00\", \"initiated\"),\n",
    "        (\"T003\", \"upi3@bank\", \"M003\", 1500.0, \"2024-12-21 10:10:00\", \"initiated\"),\n",
    "    ], ['transaction_id', 'upi_id', 'merchent_id', 'transaction_amount', 'transaction_timestamp', 'transaction_status']),\n",
    "\n",
    "    # Batch 2: Update and insert transactions\n",
    "    spark.createDataFrame([\n",
    "        (\"T001\", \"upi1@bank\", \"M001\", 500.0, \"2024-12-21 10:15:00\", \"completed\"),  # Update transaction\n",
    "        (\"T002\", \"upi2@bank\", \"M002\", 1000.0, \"2024-12-21 10:20:00\", \"failed\"),    # Update transaction\n",
    "        (\"T004\", \"upi4@bank\", \"M004\", 2000.0, \"2024-12-21 10:25:00\", \"initiated\"), # New transaction\n",
    "    ], ['transaction_id', 'upi_id', 'merchent_id', 'transaction_amount', 'transaction_timestamp', 'transaction_status']),\n",
    "\n",
    "    # Batch 3: Handle refunds and updates\n",
    "    spark.createDataFrame([\n",
    "        (\"T001\", \"upi1@bank\", \"M001\", 500.0, \"2024-12-21 10:30:00\", \"refunded\"),  # Refund issued\n",
    "        (\"T003\", \"upi3@bank\", \"M003\", 1500.0, \"2024-12-21 10:35:00\", \"completed\"), # Completed transaction\n",
    "    ], ['transaction_id', 'upi_id', 'merchent_id', 'transaction_amount', 'transaction_timestamp', 'transaction_status']),\n",
    "]\n",
    "\n",
    "\n"
   ]
  },
  {
   "cell_type": "code",
   "execution_count": 0,
   "metadata": {
    "application/vnd.databricks.v1+cell": {
     "cellMetadata": {
      "byteLimit": 2048000,
      "rowLimit": 10000
     },
     "inputWidgets": {},
     "nuid": "ce855bac-10f6-4084-8700-9fd4dfed430b",
     "showTitle": false,
     "tableResultSettingsMap": {},
     "title": ""
    }
   },
   "outputs": [],
   "source": [
    "def merge_delta_table(delta_table_name:str, batch_df):\n",
    "    print(f\"Table name: {delta_table_name} \")\n",
    "    delta_table = DeltaTable.forName(spark, delta_table_name)\n",
    "\n",
    "    merge_condition=\"target.transaction_id=source.transaction_id\"\n",
    "    delta_table.alias(\"target\").merge(\n",
    "        batch_df.alias('source'),merge_condition)\\\n",
    "            .whenMatchedUpdate(\n",
    "                set={\n",
    "                \"upi_id\":\"source.upi_id\",\n",
    "                \"merchent_id\":\"source.merchent_id\",\n",
    "                \"transaction_amount\":\"source.transaction_amount\",\n",
    "                \"transaction_timestamp\":\"source.transaction_timestamp\",\n",
    "                \"transaction_status\":\"source.transaction_status\"\n",
    "            }).whenNotMatchedInsertAll()\\\n",
    "                .execute()\n",
    "    \n",
    " \n",
    "merge_delta_table(f\"increamental_load.default.raw_upi_transaction_v1\",mock_batches[2])\n",
    "\n"
   ]
  },
  {
   "cell_type": "code",
   "execution_count": 0,
   "metadata": {
    "application/vnd.databricks.v1+cell": {
     "cellMetadata": {
      "byteLimit": 2048000,
      "rowLimit": 10000
     },
     "inputWidgets": {},
     "nuid": "fc8c3a77-dbcd-4c23-a6b9-047c2ba711dc",
     "showTitle": false,
     "tableResultSettingsMap": {},
     "title": ""
    }
   },
   "outputs": [],
   "source": [
    "mock_batches[2].show()"
   ]
  },
  {
   "cell_type": "code",
   "execution_count": 0,
   "metadata": {
    "application/vnd.databricks.v1+cell": {
     "cellMetadata": {
      "byteLimit": 2048000,
      "implicitDf": true,
      "rowLimit": 10000
     },
     "inputWidgets": {},
     "nuid": "8cb46d35-9f67-4e37-ac47-0f0847dfbbc6",
     "showTitle": false,
     "tableResultSettingsMap": {},
     "title": ""
    }
   },
   "outputs": [],
   "source": [
    "%sql\n",
    "use catalog `increamental_load`; select * from `default`.`aggregated_upi_transactions` limit 100;"
   ]
  }
 ],
 "metadata": {
  "application/vnd.databricks.v1+notebook": {
   "computePreferences": null,
   "dashboards": [],
   "environmentMetadata": {
    "base_environment": "",
    "environment_version": "2"
   },
   "inputWidgetPreferences": null,
   "language": "python",
   "notebookMetadata": {
    "mostRecentlyExecutedCommandWithImplicitDF": {
     "commandId": 8156994095924894,
     "dataframes": [
      "_sqldf"
     ]
    },
    "pythonIndentUnit": 4
   },
   "notebookName": "mock_data_publishing",
   "widgets": {}
  },
  "language_info": {
   "name": "python"
  }
 },
 "nbformat": 4,
 "nbformat_minor": 0
}
